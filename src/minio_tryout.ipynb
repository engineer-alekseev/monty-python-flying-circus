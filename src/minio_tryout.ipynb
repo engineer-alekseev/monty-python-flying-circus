{
 "cells": [
  {
   "cell_type": "code",
   "execution_count": 1,
   "metadata": {},
   "outputs": [
    {
     "name": "stdout",
     "output_type": "stream",
     "text": [
      "Defaulting to user installation because normal site-packages is not writeable\n",
      "Collecting minio\n",
      "  Downloading minio-7.1.16-py3-none-any.whl (77 kB)\n",
      "\u001b[2K     \u001b[90m━━━━━━━━━━━━━━━━━━━━━━━━━━━━━━━━━━━━━━━\u001b[0m \u001b[32m77.9/77.9 KB\u001b[0m \u001b[31m256.5 kB/s\u001b[0m eta \u001b[36m0:00:00\u001b[0ma \u001b[36m0:00:01\u001b[0m\n",
      "\u001b[?25hRequirement already satisfied: urllib3 in /usr/lib/python3/dist-packages (from minio) (1.26.5)\n",
      "Requirement already satisfied: certifi in /usr/lib/python3/dist-packages (from minio) (2020.6.20)\n",
      "Installing collected packages: minio\n",
      "Successfully installed minio-7.1.16\n"
     ]
    }
   ],
   "source": [
    "!pip3 install minio"
   ]
  },
  {
   "cell_type": "code",
   "execution_count": 2,
   "metadata": {},
   "outputs": [],
   "source": [
    "from minio import Minio\n",
    "from minio.error import S3Error"
   ]
  },
  {
   "cell_type": "code",
   "execution_count": null,
   "metadata": {},
   "outputs": [],
   "source": [
    "access_key = 'XMhAlzGuXsPpI6XXYOD4'\n",
    "secret_key = 'eQdsiEteOxw8NwI1MPkHmTU1NeavoVrx7Uv3IHok'"
   ]
  },
  {
   "cell_type": "code",
   "execution_count": null,
   "metadata": {},
   "outputs": [],
   "source": [
    "def main():\n",
    "    # Create a client with the MinIO server playground, its access key\n",
    "    # and secret key.\n",
    "    client = Minio(\n",
    "        \"play.min.io\",\n",
    "        access_key=\"Q3AM3UQ867SPQQA43P2F\",\n",
    "        secret_key=\"zuf+tfteSlswRu7BJ86wekitnifILbZam1KYY3TG\",\n",
    "    )\n",
    "\n",
    "    # Make 'asiatrip' bucket if not exist.\n",
    "    found = client.bucket_exists(\"asiatrip\")\n",
    "    if not found:\n",
    "        client.make_bucket(\"asiatrip\")\n",
    "    else:\n",
    "        print(\"Bucket 'asiatrip' already exists\")\n",
    "\n",
    "    # Upload '/home/user/Photos/asiaphotos.zip' as object name\n",
    "    # 'asiaphotos-2015.zip' to bucket 'asiatrip'.\n",
    "    client.fput_object(\n",
    "        \"asiatrip\", \"asiaphotos-2015.zip\", \"/home/user/Photos/asiaphotos.zip\",\n",
    "    )\n",
    "    print(\n",
    "        \"'/home/user/Photos/asiaphotos.zip' is successfully uploaded as \"\n",
    "        \"object 'asiaphotos-2015.zip' to bucket 'asiatrip'.\"\n",
    "    )"
   ]
  }
 ],
 "metadata": {
  "kernelspec": {
   "display_name": "Python 3",
   "language": "python",
   "name": "python3"
  },
  "language_info": {
   "codemirror_mode": {
    "name": "ipython",
    "version": 3
   },
   "file_extension": ".py",
   "mimetype": "text/x-python",
   "name": "python",
   "nbconvert_exporter": "python",
   "pygments_lexer": "ipython3",
   "version": "3.10.12"
  },
  "orig_nbformat": 4
 },
 "nbformat": 4,
 "nbformat_minor": 2
}
